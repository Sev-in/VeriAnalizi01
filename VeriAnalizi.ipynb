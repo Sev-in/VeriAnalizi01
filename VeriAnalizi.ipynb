{
 "cells": [
  {
   "cell_type": "code",
   "execution_count": 235,
   "id": "a033309b-079f-475c-bb0d-b6e07c8e1c10",
   "metadata": {},
   "outputs": [],
   "source": [
    "import pandas as pd\n",
    "import numpy as np"
   ]
  },
  {
   "cell_type": "markdown",
   "id": "72448968-ff4d-427d-b481-247d1acacb97",
   "metadata": {},
   "source": [
    "## Veri Seti Oluşturuldu"
   ]
  },
  {
   "cell_type": "code",
   "execution_count": 238,
   "id": "faa50674-8814-4d95-9e31-93384dff5673",
   "metadata": {},
   "outputs": [],
   "source": [
    "gender_list=[\"Female\",\"Male\"]\n",
    "job_list=[\"CEO (Chief Executive Officer)\",\n",
    "\"COO (Chief Operating Officer)\",\n",
    "\"CFO (Chief Financial Officer)\",\n",
    "\"CTO (Chief Technology Officer)\",\n",
    "\"CMO (Chief Marketing Officer)\",\n",
    "\"CHRO (Chief Human Resources Officer)\",\n",
    "\"CIO (Chief Information Officer)\",\n",
    "\"Product Manager\",\n",
    "\"Project Manager\",\n",
    "\"Business Development Manager\",\n",
    "\"Sales Manager\",\n",
    "\"Marketing Specialist\",\n",
    "\"Human Resources Specialist\",\n",
    "\"Accountant\",\n",
    "\"Financial Analyst\",\n",
    "\"Software Developer\",\n",
    "\"Data Analyst\",\n",
    "\"Data Scientist\",\n",
    "\"System Administrator\",\n",
    "\"Network Engineer\",\n",
    "\"Customer Support Specialist\",\n",
    "\"UI/UX Designer\",\n",
    "\"Graphic Designer\",\n",
    "\"Content Writer\",\n",
    "\"Legal Counsel\",\n",
    "\"Quality Assurance (QA) Engineer\",\n",
    "\"Logistics Manager\",\n",
    "\"Supply Chain Manager\"]\n",
    "random_gender= np.random.choice(gender_list,size=100)\n",
    "random_age=np.random.randint(20,65,size=100)\n",
    "random_jobTitle=np.random.choice(job_list,size=100)\n",
    "random_salary=np.random.randint(50000,250000,size=100)"
   ]
  },
  {
   "cell_type": "code",
   "execution_count": 240,
   "id": "dd3f8e54-14f7-409f-be0e-c733b058e21a",
   "metadata": {},
   "outputs": [],
   "source": [
    "calisan_verileri= {\n",
    "    \"Gender\":random_gender.tolist(),\n",
    "    \"Age\":random_age.tolist(),\n",
    "    \"Job Title\":random_jobTitle.tolist(),\n",
    "    \"Salary\":random_salary.tolist()\n",
    "}"
   ]
  },
  {
   "cell_type": "code",
   "execution_count": 242,
   "id": "67650ea2-52d0-4ffc-9f07-a9a39afc9458",
   "metadata": {},
   "outputs": [],
   "source": [
    "df = pd.DataFrame(calisan_verileri)"
   ]
  },
  {
   "cell_type": "markdown",
   "id": "f8242938-ca51-4b17-8142-947f884ede4d",
   "metadata": {},
   "source": [
    "## Veri Setini Tanıyoruz"
   ]
  },
  {
   "cell_type": "code",
   "execution_count": 245,
   "id": "7dfce8b1-28d0-485a-9160-d3d04784e84c",
   "metadata": {},
   "outputs": [
    {
     "data": {
      "text/html": [
       "<div>\n",
       "<style scoped>\n",
       "    .dataframe tbody tr th:only-of-type {\n",
       "        vertical-align: middle;\n",
       "    }\n",
       "\n",
       "    .dataframe tbody tr th {\n",
       "        vertical-align: top;\n",
       "    }\n",
       "\n",
       "    .dataframe thead th {\n",
       "        text-align: right;\n",
       "    }\n",
       "</style>\n",
       "<table border=\"1\" class=\"dataframe\">\n",
       "  <thead>\n",
       "    <tr style=\"text-align: right;\">\n",
       "      <th></th>\n",
       "      <th>Gender</th>\n",
       "      <th>Age</th>\n",
       "      <th>Job Title</th>\n",
       "      <th>Salary</th>\n",
       "    </tr>\n",
       "  </thead>\n",
       "  <tbody>\n",
       "    <tr>\n",
       "      <th>0</th>\n",
       "      <td>Female</td>\n",
       "      <td>39</td>\n",
       "      <td>COO (Chief Operating Officer)</td>\n",
       "      <td>182148</td>\n",
       "    </tr>\n",
       "    <tr>\n",
       "      <th>1</th>\n",
       "      <td>Female</td>\n",
       "      <td>54</td>\n",
       "      <td>Accountant</td>\n",
       "      <td>55347</td>\n",
       "    </tr>\n",
       "    <tr>\n",
       "      <th>2</th>\n",
       "      <td>Female</td>\n",
       "      <td>28</td>\n",
       "      <td>Data Scientist</td>\n",
       "      <td>90921</td>\n",
       "    </tr>\n",
       "    <tr>\n",
       "      <th>3</th>\n",
       "      <td>Female</td>\n",
       "      <td>23</td>\n",
       "      <td>Sales Manager</td>\n",
       "      <td>234653</td>\n",
       "    </tr>\n",
       "    <tr>\n",
       "      <th>4</th>\n",
       "      <td>Female</td>\n",
       "      <td>32</td>\n",
       "      <td>CEO (Chief Executive Officer)</td>\n",
       "      <td>245105</td>\n",
       "    </tr>\n",
       "    <tr>\n",
       "      <th>5</th>\n",
       "      <td>Female</td>\n",
       "      <td>63</td>\n",
       "      <td>Software Developer</td>\n",
       "      <td>144158</td>\n",
       "    </tr>\n",
       "    <tr>\n",
       "      <th>6</th>\n",
       "      <td>Female</td>\n",
       "      <td>46</td>\n",
       "      <td>Content Writer</td>\n",
       "      <td>160129</td>\n",
       "    </tr>\n",
       "    <tr>\n",
       "      <th>7</th>\n",
       "      <td>Male</td>\n",
       "      <td>34</td>\n",
       "      <td>Sales Manager</td>\n",
       "      <td>216854</td>\n",
       "    </tr>\n",
       "    <tr>\n",
       "      <th>8</th>\n",
       "      <td>Male</td>\n",
       "      <td>64</td>\n",
       "      <td>Quality Assurance (QA) Engineer</td>\n",
       "      <td>80951</td>\n",
       "    </tr>\n",
       "    <tr>\n",
       "      <th>9</th>\n",
       "      <td>Male</td>\n",
       "      <td>35</td>\n",
       "      <td>Business Development Manager</td>\n",
       "      <td>129872</td>\n",
       "    </tr>\n",
       "  </tbody>\n",
       "</table>\n",
       "</div>"
      ],
      "text/plain": [
       "   Gender  Age                        Job Title  Salary\n",
       "0  Female   39    COO (Chief Operating Officer)  182148\n",
       "1  Female   54                       Accountant   55347\n",
       "2  Female   28                   Data Scientist   90921\n",
       "3  Female   23                    Sales Manager  234653\n",
       "4  Female   32    CEO (Chief Executive Officer)  245105\n",
       "5  Female   63               Software Developer  144158\n",
       "6  Female   46                   Content Writer  160129\n",
       "7    Male   34                    Sales Manager  216854\n",
       "8    Male   64  Quality Assurance (QA) Engineer   80951\n",
       "9    Male   35     Business Development Manager  129872"
      ]
     },
     "execution_count": 245,
     "metadata": {},
     "output_type": "execute_result"
    }
   ],
   "source": [
    "df.head(10)"
   ]
  },
  {
   "cell_type": "code",
   "execution_count": 268,
   "id": "e38f1b5e-804a-42f6-8620-97e1d2a0f207",
   "metadata": {},
   "outputs": [
    {
     "data": {
      "text/html": [
       "<div>\n",
       "<style scoped>\n",
       "    .dataframe tbody tr th:only-of-type {\n",
       "        vertical-align: middle;\n",
       "    }\n",
       "\n",
       "    .dataframe tbody tr th {\n",
       "        vertical-align: top;\n",
       "    }\n",
       "\n",
       "    .dataframe thead th {\n",
       "        text-align: right;\n",
       "    }\n",
       "</style>\n",
       "<table border=\"1\" class=\"dataframe\">\n",
       "  <thead>\n",
       "    <tr style=\"text-align: right;\">\n",
       "      <th></th>\n",
       "      <th>Gender</th>\n",
       "      <th>Age</th>\n",
       "      <th>Job Title</th>\n",
       "      <th>Salary</th>\n",
       "    </tr>\n",
       "  </thead>\n",
       "  <tbody>\n",
       "    <tr>\n",
       "      <th>90</th>\n",
       "      <td>Male</td>\n",
       "      <td>21</td>\n",
       "      <td>Network Engineer</td>\n",
       "      <td>124710</td>\n",
       "    </tr>\n",
       "    <tr>\n",
       "      <th>91</th>\n",
       "      <td>Female</td>\n",
       "      <td>62</td>\n",
       "      <td>Graphic Designer</td>\n",
       "      <td>53497</td>\n",
       "    </tr>\n",
       "    <tr>\n",
       "      <th>92</th>\n",
       "      <td>Female</td>\n",
       "      <td>28</td>\n",
       "      <td>Sales Manager</td>\n",
       "      <td>54388</td>\n",
       "    </tr>\n",
       "    <tr>\n",
       "      <th>93</th>\n",
       "      <td>Female</td>\n",
       "      <td>25</td>\n",
       "      <td>System Administrator</td>\n",
       "      <td>191921</td>\n",
       "    </tr>\n",
       "    <tr>\n",
       "      <th>94</th>\n",
       "      <td>Male</td>\n",
       "      <td>49</td>\n",
       "      <td>Supply Chain Manager</td>\n",
       "      <td>61807</td>\n",
       "    </tr>\n",
       "    <tr>\n",
       "      <th>95</th>\n",
       "      <td>Male</td>\n",
       "      <td>43</td>\n",
       "      <td>Human Resources Specialist</td>\n",
       "      <td>167077</td>\n",
       "    </tr>\n",
       "    <tr>\n",
       "      <th>96</th>\n",
       "      <td>Female</td>\n",
       "      <td>60</td>\n",
       "      <td>CMO (Chief Marketing Officer)</td>\n",
       "      <td>197630</td>\n",
       "    </tr>\n",
       "    <tr>\n",
       "      <th>97</th>\n",
       "      <td>Female</td>\n",
       "      <td>40</td>\n",
       "      <td>Data Scientist</td>\n",
       "      <td>95684</td>\n",
       "    </tr>\n",
       "    <tr>\n",
       "      <th>98</th>\n",
       "      <td>Male</td>\n",
       "      <td>50</td>\n",
       "      <td>Logistics Manager</td>\n",
       "      <td>106651</td>\n",
       "    </tr>\n",
       "    <tr>\n",
       "      <th>99</th>\n",
       "      <td>Female</td>\n",
       "      <td>41</td>\n",
       "      <td>System Administrator</td>\n",
       "      <td>160681</td>\n",
       "    </tr>\n",
       "  </tbody>\n",
       "</table>\n",
       "</div>"
      ],
      "text/plain": [
       "    Gender  Age                      Job Title  Salary\n",
       "90    Male   21               Network Engineer  124710\n",
       "91  Female   62               Graphic Designer   53497\n",
       "92  Female   28                  Sales Manager   54388\n",
       "93  Female   25           System Administrator  191921\n",
       "94    Male   49           Supply Chain Manager   61807\n",
       "95    Male   43     Human Resources Specialist  167077\n",
       "96  Female   60  CMO (Chief Marketing Officer)  197630\n",
       "97  Female   40                 Data Scientist   95684\n",
       "98    Male   50              Logistics Manager  106651\n",
       "99  Female   41           System Administrator  160681"
      ]
     },
     "execution_count": 268,
     "metadata": {},
     "output_type": "execute_result"
    }
   ],
   "source": [
    "df.tail(10)"
   ]
  },
  {
   "cell_type": "code",
   "execution_count": 286,
   "id": "5239800e-3574-408c-afbc-e816c3027e8b",
   "metadata": {},
   "outputs": [
    {
     "data": {
      "text/html": [
       "<div>\n",
       "<style scoped>\n",
       "    .dataframe tbody tr th:only-of-type {\n",
       "        vertical-align: middle;\n",
       "    }\n",
       "\n",
       "    .dataframe tbody tr th {\n",
       "        vertical-align: top;\n",
       "    }\n",
       "\n",
       "    .dataframe thead th {\n",
       "        text-align: right;\n",
       "    }\n",
       "</style>\n",
       "<table border=\"1\" class=\"dataframe\">\n",
       "  <thead>\n",
       "    <tr style=\"text-align: right;\">\n",
       "      <th></th>\n",
       "      <th>Gender</th>\n",
       "      <th>Age</th>\n",
       "      <th>Job Title</th>\n",
       "      <th>Salary</th>\n",
       "    </tr>\n",
       "  </thead>\n",
       "  <tbody>\n",
       "    <tr>\n",
       "      <th>97</th>\n",
       "      <td>Female</td>\n",
       "      <td>40</td>\n",
       "      <td>Data Scientist</td>\n",
       "      <td>95684</td>\n",
       "    </tr>\n",
       "    <tr>\n",
       "      <th>2</th>\n",
       "      <td>Female</td>\n",
       "      <td>28</td>\n",
       "      <td>Data Scientist</td>\n",
       "      <td>90921</td>\n",
       "    </tr>\n",
       "    <tr>\n",
       "      <th>30</th>\n",
       "      <td>Female</td>\n",
       "      <td>49</td>\n",
       "      <td>Content Writer</td>\n",
       "      <td>115822</td>\n",
       "    </tr>\n",
       "    <tr>\n",
       "      <th>57</th>\n",
       "      <td>Female</td>\n",
       "      <td>53</td>\n",
       "      <td>Data Analyst</td>\n",
       "      <td>80977</td>\n",
       "    </tr>\n",
       "    <tr>\n",
       "      <th>8</th>\n",
       "      <td>Male</td>\n",
       "      <td>64</td>\n",
       "      <td>Quality Assurance (QA) Engineer</td>\n",
       "      <td>80951</td>\n",
       "    </tr>\n",
       "  </tbody>\n",
       "</table>\n",
       "</div>"
      ],
      "text/plain": [
       "    Gender  Age                        Job Title  Salary\n",
       "97  Female   40                   Data Scientist   95684\n",
       "2   Female   28                   Data Scientist   90921\n",
       "30  Female   49                   Content Writer  115822\n",
       "57  Female   53                     Data Analyst   80977\n",
       "8     Male   64  Quality Assurance (QA) Engineer   80951"
      ]
     },
     "execution_count": 286,
     "metadata": {},
     "output_type": "execute_result"
    }
   ],
   "source": [
    "df.sample(5) #rastgele 5 satır gösterir."
   ]
  },
  {
   "cell_type": "code",
   "execution_count": 272,
   "id": "4dd789c8-a0a0-4171-9a38-58aa97991fb8",
   "metadata": {},
   "outputs": [
    {
     "data": {
      "text/plain": [
       "(100, 4)"
      ]
     },
     "execution_count": 272,
     "metadata": {},
     "output_type": "execute_result"
    }
   ],
   "source": [
    "df.shape #(satır,kolon)"
   ]
  },
  {
   "cell_type": "code",
   "execution_count": 249,
   "id": "4106182c-0e6e-468e-a05e-29868b1eb6a2",
   "metadata": {},
   "outputs": [
    {
     "data": {
      "text/html": [
       "<div>\n",
       "<style scoped>\n",
       "    .dataframe tbody tr th:only-of-type {\n",
       "        vertical-align: middle;\n",
       "    }\n",
       "\n",
       "    .dataframe tbody tr th {\n",
       "        vertical-align: top;\n",
       "    }\n",
       "\n",
       "    .dataframe thead th {\n",
       "        text-align: right;\n",
       "    }\n",
       "</style>\n",
       "<table border=\"1\" class=\"dataframe\">\n",
       "  <thead>\n",
       "    <tr style=\"text-align: right;\">\n",
       "      <th></th>\n",
       "      <th>Age</th>\n",
       "      <th>Salary</th>\n",
       "    </tr>\n",
       "  </thead>\n",
       "  <tbody>\n",
       "    <tr>\n",
       "      <th>count</th>\n",
       "      <td>100.000000</td>\n",
       "      <td>100.000000</td>\n",
       "    </tr>\n",
       "    <tr>\n",
       "      <th>mean</th>\n",
       "      <td>42.280000</td>\n",
       "      <td>148386.310000</td>\n",
       "    </tr>\n",
       "    <tr>\n",
       "      <th>std</th>\n",
       "      <td>13.510251</td>\n",
       "      <td>58775.450274</td>\n",
       "    </tr>\n",
       "    <tr>\n",
       "      <th>min</th>\n",
       "      <td>20.000000</td>\n",
       "      <td>53497.000000</td>\n",
       "    </tr>\n",
       "    <tr>\n",
       "      <th>25%</th>\n",
       "      <td>31.750000</td>\n",
       "      <td>93486.000000</td>\n",
       "    </tr>\n",
       "    <tr>\n",
       "      <th>50%</th>\n",
       "      <td>40.500000</td>\n",
       "      <td>146861.500000</td>\n",
       "    </tr>\n",
       "    <tr>\n",
       "      <th>75%</th>\n",
       "      <td>55.000000</td>\n",
       "      <td>197771.250000</td>\n",
       "    </tr>\n",
       "    <tr>\n",
       "      <th>max</th>\n",
       "      <td>64.000000</td>\n",
       "      <td>245478.000000</td>\n",
       "    </tr>\n",
       "  </tbody>\n",
       "</table>\n",
       "</div>"
      ],
      "text/plain": [
       "              Age         Salary\n",
       "count  100.000000     100.000000\n",
       "mean    42.280000  148386.310000\n",
       "std     13.510251   58775.450274\n",
       "min     20.000000   53497.000000\n",
       "25%     31.750000   93486.000000\n",
       "50%     40.500000  146861.500000\n",
       "75%     55.000000  197771.250000\n",
       "max     64.000000  245478.000000"
      ]
     },
     "execution_count": 249,
     "metadata": {},
     "output_type": "execute_result"
    }
   ],
   "source": [
    "df.describe()"
   ]
  },
  {
   "cell_type": "code",
   "execution_count": 251,
   "id": "fb736efd-e63a-47fd-9404-06d22f18dca1",
   "metadata": {},
   "outputs": [
    {
     "name": "stdout",
     "output_type": "stream",
     "text": [
      "<class 'pandas.core.frame.DataFrame'>\n",
      "RangeIndex: 100 entries, 0 to 99\n",
      "Data columns (total 4 columns):\n",
      " #   Column     Non-Null Count  Dtype \n",
      "---  ------     --------------  ----- \n",
      " 0   Gender     100 non-null    object\n",
      " 1   Age        100 non-null    int64 \n",
      " 2   Job Title  100 non-null    object\n",
      " 3   Salary     100 non-null    int64 \n",
      "dtypes: int64(2), object(2)\n",
      "memory usage: 3.3+ KB\n"
     ]
    }
   ],
   "source": [
    "df.info()"
   ]
  },
  {
   "cell_type": "code",
   "execution_count": 288,
   "id": "3d005780-aebe-461d-b83a-67404bae3bbd",
   "metadata": {},
   "outputs": [
    {
     "data": {
      "text/plain": [
       "Gender       0\n",
       "Age          0\n",
       "Job Title    0\n",
       "Salary       0\n",
       "dtype: int64"
      ]
     },
     "execution_count": 288,
     "metadata": {},
     "output_type": "execute_result"
    }
   ],
   "source": [
    "df.isnull().sum() # Her sütundaki eksik değerlerin sayısını gösterir."
   ]
  },
  {
   "cell_type": "code",
   "execution_count": 254,
   "id": "dba257f4-7507-4a30-984f-87d6fe279bfd",
   "metadata": {},
   "outputs": [
    {
     "data": {
      "text/plain": [
       "Gender\n",
       "Female    55\n",
       "Male      45\n",
       "Name: count, dtype: int64"
      ]
     },
     "execution_count": 254,
     "metadata": {},
     "output_type": "execute_result"
    }
   ],
   "source": [
    "df[\"Gender\"].value_counts()"
   ]
  },
  {
   "cell_type": "code",
   "execution_count": 296,
   "id": "f9068f15-6ccb-4fe1-9528-73a044cec750",
   "metadata": {},
   "outputs": [
    {
     "data": {
      "text/plain": [
       "Job Title\n",
       "COO (Chief Operating Officer)           7\n",
       "Software Developer                      7\n",
       "Sales Manager                           6\n",
       "Content Writer                          6\n",
       "Supply Chain Manager                    5\n",
       "Data Analyst                            5\n",
       "CHRO (Chief Human Resources Officer)    5\n",
       "Human Resources Specialist              5\n",
       "Business Development Manager            4\n",
       "Legal Counsel                           4\n",
       "Name: count, dtype: int64"
      ]
     },
     "execution_count": 296,
     "metadata": {},
     "output_type": "execute_result"
    }
   ],
   "source": [
    "df[\"Job Title\"].value_counts().head(10)"
   ]
  },
  {
   "cell_type": "markdown",
   "id": "d340b39b-65ee-444c-b008-89016b5d66af",
   "metadata": {},
   "source": [
    "## Belirli Bir Kişinin Maaşına Zam Yapıldı"
   ]
  },
  {
   "cell_type": "code",
   "execution_count": 258,
   "id": "ea289a65-d004-4c0c-8aae-31f9fa01509e",
   "metadata": {},
   "outputs": [
    {
     "data": {
      "text/plain": [
       "216854"
      ]
     },
     "execution_count": 258,
     "metadata": {},
     "output_type": "execute_result"
    }
   ],
   "source": [
    "df[\"Salary\"].iloc[7]"
   ]
  },
  {
   "cell_type": "code",
   "execution_count": 262,
   "id": "109dbab3-0b4e-44d2-921c-f3736c4d31da",
   "metadata": {},
   "outputs": [],
   "source": [
    "df.loc[7,\"Salary\"]= 250000 #zam yapıldı"
   ]
  },
  {
   "cell_type": "code",
   "execution_count": 264,
   "id": "1fcb1c00-4863-4d27-ae9d-ada91994b67e",
   "metadata": {},
   "outputs": [
    {
     "data": {
      "text/plain": [
       "250000"
      ]
     },
     "execution_count": 264,
     "metadata": {},
     "output_type": "execute_result"
    }
   ],
   "source": [
    "df[\"Salary\"].iloc[7]"
   ]
  },
  {
   "cell_type": "markdown",
   "id": "ca9e7d7c-a79a-4d60-9ecf-131ba77cf548",
   "metadata": {},
   "source": [
    "## Veri Analizi - İşe Göre Maaş"
   ]
  },
  {
   "cell_type": "code",
   "execution_count": 334,
   "id": "71c5a5b0-c076-438b-8f5b-64ed7a45db9f",
   "metadata": {},
   "outputs": [],
   "source": [
    "job_mean_salary=df.groupby(\"Job Title\")[\"Salary\"].mean().sort_values(ascending=False).reset_index()\n",
    "#İşe göre maaşların ortalamasını bulduk -> df.groupby(\"Job Title\")[\"Salary\"].mean()\n",
    "#Maaşı yüksekten düşüğe doğru sıraladık -> sort_values(ascending=False)\n",
    "#indexi sıraladık -> reset_index()"
   ]
  },
  {
   "cell_type": "code",
   "execution_count": 338,
   "id": "e29209df-4a87-48dd-9916-82bea750a7cc",
   "metadata": {},
   "outputs": [
    {
     "data": {
      "text/html": [
       "<div>\n",
       "<style scoped>\n",
       "    .dataframe tbody tr th:only-of-type {\n",
       "        vertical-align: middle;\n",
       "    }\n",
       "\n",
       "    .dataframe tbody tr th {\n",
       "        vertical-align: top;\n",
       "    }\n",
       "\n",
       "    .dataframe thead th {\n",
       "        text-align: right;\n",
       "    }\n",
       "</style>\n",
       "<table border=\"1\" class=\"dataframe\">\n",
       "  <thead>\n",
       "    <tr style=\"text-align: right;\">\n",
       "      <th></th>\n",
       "      <th>Job Title</th>\n",
       "      <th>Salary</th>\n",
       "    </tr>\n",
       "  </thead>\n",
       "  <tbody>\n",
       "    <tr>\n",
       "      <th>0</th>\n",
       "      <td>Project Manager</td>\n",
       "      <td>212705.000000</td>\n",
       "    </tr>\n",
       "    <tr>\n",
       "      <th>1</th>\n",
       "      <td>Sales Manager</td>\n",
       "      <td>193972.000000</td>\n",
       "    </tr>\n",
       "    <tr>\n",
       "      <th>2</th>\n",
       "      <td>CMO (Chief Marketing Officer)</td>\n",
       "      <td>183887.333333</td>\n",
       "    </tr>\n",
       "    <tr>\n",
       "      <th>3</th>\n",
       "      <td>Financial Analyst</td>\n",
       "      <td>180399.000000</td>\n",
       "    </tr>\n",
       "    <tr>\n",
       "      <th>4</th>\n",
       "      <td>Product Manager</td>\n",
       "      <td>178146.666667</td>\n",
       "    </tr>\n",
       "    <tr>\n",
       "      <th>5</th>\n",
       "      <td>System Administrator</td>\n",
       "      <td>169163.500000</td>\n",
       "    </tr>\n",
       "    <tr>\n",
       "      <th>6</th>\n",
       "      <td>Content Writer</td>\n",
       "      <td>163991.333333</td>\n",
       "    </tr>\n",
       "    <tr>\n",
       "      <th>7</th>\n",
       "      <td>Business Development Manager</td>\n",
       "      <td>159295.000000</td>\n",
       "    </tr>\n",
       "    <tr>\n",
       "      <th>8</th>\n",
       "      <td>Graphic Designer</td>\n",
       "      <td>157360.666667</td>\n",
       "    </tr>\n",
       "    <tr>\n",
       "      <th>9</th>\n",
       "      <td>Human Resources Specialist</td>\n",
       "      <td>156981.800000</td>\n",
       "    </tr>\n",
       "    <tr>\n",
       "      <th>10</th>\n",
       "      <td>Network Engineer</td>\n",
       "      <td>154698.666667</td>\n",
       "    </tr>\n",
       "    <tr>\n",
       "      <th>11</th>\n",
       "      <td>Quality Assurance (QA) Engineer</td>\n",
       "      <td>149758.500000</td>\n",
       "    </tr>\n",
       "    <tr>\n",
       "      <th>12</th>\n",
       "      <td>Supply Chain Manager</td>\n",
       "      <td>149696.000000</td>\n",
       "    </tr>\n",
       "    <tr>\n",
       "      <th>13</th>\n",
       "      <td>COO (Chief Operating Officer)</td>\n",
       "      <td>147528.000000</td>\n",
       "    </tr>\n",
       "    <tr>\n",
       "      <th>14</th>\n",
       "      <td>CIO (Chief Information Officer)</td>\n",
       "      <td>145512.000000</td>\n",
       "    </tr>\n",
       "    <tr>\n",
       "      <th>15</th>\n",
       "      <td>CEO (Chief Executive Officer)</td>\n",
       "      <td>144944.666667</td>\n",
       "    </tr>\n",
       "    <tr>\n",
       "      <th>16</th>\n",
       "      <td>Data Analyst</td>\n",
       "      <td>143153.400000</td>\n",
       "    </tr>\n",
       "    <tr>\n",
       "      <th>17</th>\n",
       "      <td>UI/UX Designer</td>\n",
       "      <td>140738.000000</td>\n",
       "    </tr>\n",
       "    <tr>\n",
       "      <th>18</th>\n",
       "      <td>Marketing Specialist</td>\n",
       "      <td>136039.000000</td>\n",
       "    </tr>\n",
       "    <tr>\n",
       "      <th>19</th>\n",
       "      <td>Software Developer</td>\n",
       "      <td>135781.285714</td>\n",
       "    </tr>\n",
       "    <tr>\n",
       "      <th>20</th>\n",
       "      <td>CHRO (Chief Human Resources Officer)</td>\n",
       "      <td>133388.000000</td>\n",
       "    </tr>\n",
       "    <tr>\n",
       "      <th>21</th>\n",
       "      <td>Legal Counsel</td>\n",
       "      <td>130399.750000</td>\n",
       "    </tr>\n",
       "    <tr>\n",
       "      <th>22</th>\n",
       "      <td>Logistics Manager</td>\n",
       "      <td>124041.000000</td>\n",
       "    </tr>\n",
       "    <tr>\n",
       "      <th>23</th>\n",
       "      <td>Customer Support Specialist</td>\n",
       "      <td>95494.000000</td>\n",
       "    </tr>\n",
       "    <tr>\n",
       "      <th>24</th>\n",
       "      <td>CTO (Chief Technology Officer)</td>\n",
       "      <td>93505.000000</td>\n",
       "    </tr>\n",
       "    <tr>\n",
       "      <th>25</th>\n",
       "      <td>Data Scientist</td>\n",
       "      <td>93302.500000</td>\n",
       "    </tr>\n",
       "    <tr>\n",
       "      <th>26</th>\n",
       "      <td>Accountant</td>\n",
       "      <td>88405.000000</td>\n",
       "    </tr>\n",
       "  </tbody>\n",
       "</table>\n",
       "</div>"
      ],
      "text/plain": [
       "                               Job Title         Salary\n",
       "0                        Project Manager  212705.000000\n",
       "1                          Sales Manager  193972.000000\n",
       "2          CMO (Chief Marketing Officer)  183887.333333\n",
       "3                      Financial Analyst  180399.000000\n",
       "4                        Product Manager  178146.666667\n",
       "5                   System Administrator  169163.500000\n",
       "6                         Content Writer  163991.333333\n",
       "7           Business Development Manager  159295.000000\n",
       "8                       Graphic Designer  157360.666667\n",
       "9             Human Resources Specialist  156981.800000\n",
       "10                      Network Engineer  154698.666667\n",
       "11       Quality Assurance (QA) Engineer  149758.500000\n",
       "12                  Supply Chain Manager  149696.000000\n",
       "13         COO (Chief Operating Officer)  147528.000000\n",
       "14       CIO (Chief Information Officer)  145512.000000\n",
       "15         CEO (Chief Executive Officer)  144944.666667\n",
       "16                          Data Analyst  143153.400000\n",
       "17                        UI/UX Designer  140738.000000\n",
       "18                  Marketing Specialist  136039.000000\n",
       "19                    Software Developer  135781.285714\n",
       "20  CHRO (Chief Human Resources Officer)  133388.000000\n",
       "21                         Legal Counsel  130399.750000\n",
       "22                     Logistics Manager  124041.000000\n",
       "23           Customer Support Specialist   95494.000000\n",
       "24        CTO (Chief Technology Officer)   93505.000000\n",
       "25                        Data Scientist   93302.500000\n",
       "26                            Accountant   88405.000000"
      ]
     },
     "execution_count": 338,
     "metadata": {},
     "output_type": "execute_result"
    }
   ],
   "source": [
    "job_mean_salary"
   ]
  },
  {
   "cell_type": "code",
   "execution_count": 342,
   "id": "da06a402-f5f8-443c-908a-701753100e81",
   "metadata": {},
   "outputs": [
    {
     "data": {
      "text/plain": [
       "<Axes: ylabel='Job Title'>"
      ]
     },
     "execution_count": 342,
     "metadata": {},
     "output_type": "execute_result"
    },
    {
     "data": {
      "image/png": "[encoded data removed]",
      "text/plain": [
       "<Figure size 640x480 with 1 Axes>"
      ]
     },
     "metadata": {},
     "output_type": "display_data"
    }
   ],
   "source": [
    "job_mean_salary.plot(x=\"Job Title\",y=\"Salary\",kind=\"barh\")"
   ]
  },
  {
   "cell_type": "markdown",
   "id": "84ce4cac-62ac-498f-8116-96bbafd71909",
   "metadata": {},
   "source": [
    "## Veri Analizi - Belirli Bir İşte Cinsiyete Göre Maaş"
   ]
  },
  {
   "cell_type": "code",
   "execution_count": 347,
   "id": "d75dd646-17c8-466f-a0b4-578936fd2498",
   "metadata": {},
   "outputs": [],
   "source": [
    "female_data_analyst=df[(df[\"Job Title\"]==\"Data Analyst\") & (df[\"Gender\"]==\"Female\")]"
   ]
  },
  {
   "cell_type": "code",
   "execution_count": 351,
   "id": "873ef266-3944-4ffb-b50b-64f843f9620a",
   "metadata": {},
   "outputs": [
    {
     "data": {
      "text/html": [
       "<div>\n",
       "<style scoped>\n",
       "    .dataframe tbody tr th:only-of-type {\n",
       "        vertical-align: middle;\n",
       "    }\n",
       "\n",
       "    .dataframe tbody tr th {\n",
       "        vertical-align: top;\n",
       "    }\n",
       "\n",
       "    .dataframe thead th {\n",
       "        text-align: right;\n",
       "    }\n",
       "</style>\n",
       "<table border=\"1\" class=\"dataframe\">\n",
       "  <thead>\n",
       "    <tr style=\"text-align: right;\">\n",
       "      <th></th>\n",
       "      <th>Gender</th>\n",
       "      <th>Age</th>\n",
       "      <th>Job Title</th>\n",
       "      <th>Salary</th>\n",
       "    </tr>\n",
       "  </thead>\n",
       "  <tbody>\n",
       "    <tr>\n",
       "      <th>25</th>\n",
       "      <td>Female</td>\n",
       "      <td>35</td>\n",
       "      <td>Data Analyst</td>\n",
       "      <td>220246</td>\n",
       "    </tr>\n",
       "    <tr>\n",
       "      <th>33</th>\n",
       "      <td>Female</td>\n",
       "      <td>64</td>\n",
       "      <td>Data Analyst</td>\n",
       "      <td>171810</td>\n",
       "    </tr>\n",
       "    <tr>\n",
       "      <th>38</th>\n",
       "      <td>Female</td>\n",
       "      <td>51</td>\n",
       "      <td>Data Analyst</td>\n",
       "      <td>57017</td>\n",
       "    </tr>\n",
       "    <tr>\n",
       "      <th>57</th>\n",
       "      <td>Female</td>\n",
       "      <td>53</td>\n",
       "      <td>Data Analyst</td>\n",
       "      <td>80977</td>\n",
       "    </tr>\n",
       "  </tbody>\n",
       "</table>\n",
       "</div>"
      ],
      "text/plain": [
       "    Gender  Age     Job Title  Salary\n",
       "25  Female   35  Data Analyst  220246\n",
       "33  Female   64  Data Analyst  171810\n",
       "38  Female   51  Data Analyst   57017\n",
       "57  Female   53  Data Analyst   80977"
      ]
     },
     "execution_count": 351,
     "metadata": {},
     "output_type": "execute_result"
    }
   ],
   "source": [
    "female_data_analyst"
   ]
  },
  {
   "cell_type": "code",
   "execution_count": 353,
   "id": "3c2c4b22-e8f0-4862-b188-2731a88d826f",
   "metadata": {},
   "outputs": [
    {
     "data": {
      "text/plain": [
       "132512.5"
      ]
     },
     "execution_count": 353,
     "metadata": {},
     "output_type": "execute_result"
    }
   ],
   "source": [
    "female_data_analyst[\"Salary\"].mean()"
   ]
  },
  {
   "cell_type": "code",
   "execution_count": 355,
   "id": "ade4bf1c-0117-4f25-9345-e725d22d76c5",
   "metadata": {},
   "outputs": [],
   "source": [
    "male_data_analyst=df[(df[\"Job Title\"]==\"Data Analyst\") & (df[\"Gender\"]==\"Male\")]"
   ]
  },
  {
   "cell_type": "code",
   "execution_count": 357,
   "id": "d5b2868d-1054-4a6c-bc1a-42f128600d24",
   "metadata": {},
   "outputs": [
    {
     "data": {
      "text/html": [
       "<div>\n",
       "<style scoped>\n",
       "    .dataframe tbody tr th:only-of-type {\n",
       "        vertical-align: middle;\n",
       "    }\n",
       "\n",
       "    .dataframe tbody tr th {\n",
       "        vertical-align: top;\n",
       "    }\n",
       "\n",
       "    .dataframe thead th {\n",
       "        text-align: right;\n",
       "    }\n",
       "</style>\n",
       "<table border=\"1\" class=\"dataframe\">\n",
       "  <thead>\n",
       "    <tr style=\"text-align: right;\">\n",
       "      <th></th>\n",
       "      <th>Gender</th>\n",
       "      <th>Age</th>\n",
       "      <th>Job Title</th>\n",
       "      <th>Salary</th>\n",
       "    </tr>\n",
       "  </thead>\n",
       "  <tbody>\n",
       "    <tr>\n",
       "      <th>49</th>\n",
       "      <td>Male</td>\n",
       "      <td>64</td>\n",
       "      <td>Data Analyst</td>\n",
       "      <td>185717</td>\n",
       "    </tr>\n",
       "  </tbody>\n",
       "</table>\n",
       "</div>"
      ],
      "text/plain": [
       "   Gender  Age     Job Title  Salary\n",
       "49   Male   64  Data Analyst  185717"
      ]
     },
     "execution_count": 357,
     "metadata": {},
     "output_type": "execute_result"
    }
   ],
   "source": [
    "male_data_analyst"
   ]
  },
  {
   "cell_type": "code",
   "execution_count": 359,
   "id": "0ea21cc1-e520-472c-a182-0d42a23f56c0",
   "metadata": {},
   "outputs": [
    {
     "data": {
      "text/plain": [
       "185717.0"
      ]
     },
     "execution_count": 359,
     "metadata": {},
     "output_type": "execute_result"
    }
   ],
   "source": [
    "male_data_analyst[\"Salary\"].mean()"
   ]
  },
  {
   "cell_type": "markdown",
   "id": "4b4b43f6-6bf5-4826-a0c1-3c15392180c2",
   "metadata": {},
   "source": [
    "## En Yüksek ve En Düşük Maaş Alan Çalışanlar"
   ]
  },
  {
   "cell_type": "code",
   "execution_count": 392,
   "id": "de3f2526-db69-459d-b9fa-6f4904229893",
   "metadata": {},
   "outputs": [
    {
     "data": {
      "text/html": [
       "<div>\n",
       "<style scoped>\n",
       "    .dataframe tbody tr th:only-of-type {\n",
       "        vertical-align: middle;\n",
       "    }\n",
       "\n",
       "    .dataframe tbody tr th {\n",
       "        vertical-align: top;\n",
       "    }\n",
       "\n",
       "    .dataframe thead th {\n",
       "        text-align: right;\n",
       "    }\n",
       "</style>\n",
       "<table border=\"1\" class=\"dataframe\">\n",
       "  <thead>\n",
       "    <tr style=\"text-align: right;\">\n",
       "      <th></th>\n",
       "      <th>Gender</th>\n",
       "      <th>Age</th>\n",
       "      <th>Job Title</th>\n",
       "      <th>Salary</th>\n",
       "    </tr>\n",
       "  </thead>\n",
       "  <tbody>\n",
       "    <tr>\n",
       "      <th>0</th>\n",
       "      <td>Male</td>\n",
       "      <td>34</td>\n",
       "      <td>Sales Manager</td>\n",
       "      <td>250000</td>\n",
       "    </tr>\n",
       "    <tr>\n",
       "      <th>1</th>\n",
       "      <td>Female</td>\n",
       "      <td>24</td>\n",
       "      <td>Software Developer</td>\n",
       "      <td>245478</td>\n",
       "    </tr>\n",
       "    <tr>\n",
       "      <th>2</th>\n",
       "      <td>Female</td>\n",
       "      <td>32</td>\n",
       "      <td>CEO (Chief Executive Officer)</td>\n",
       "      <td>245105</td>\n",
       "    </tr>\n",
       "    <tr>\n",
       "      <th>3</th>\n",
       "      <td>Female</td>\n",
       "      <td>39</td>\n",
       "      <td>Content Writer</td>\n",
       "      <td>243006</td>\n",
       "    </tr>\n",
       "    <tr>\n",
       "      <th>4</th>\n",
       "      <td>Male</td>\n",
       "      <td>25</td>\n",
       "      <td>Sales Manager</td>\n",
       "      <td>242820</td>\n",
       "    </tr>\n",
       "  </tbody>\n",
       "</table>\n",
       "</div>"
      ],
      "text/plain": [
       "   Gender  Age                      Job Title  Salary\n",
       "0    Male   34                  Sales Manager  250000\n",
       "1  Female   24             Software Developer  245478\n",
       "2  Female   32  CEO (Chief Executive Officer)  245105\n",
       "3  Female   39                 Content Writer  243006\n",
       "4    Male   25                  Sales Manager  242820"
      ]
     },
     "execution_count": 392,
     "metadata": {},
     "output_type": "execute_result"
    }
   ],
   "source": [
    "df.sort_values(\"Salary\",ascending=False).head().reset_index(drop=True)\n",
    "#drop=True parametresi index kolonunu kaldırır."
   ]
  },
  {
   "cell_type": "code",
   "execution_count": 433,
   "id": "909c2335-7509-4005-9ca3-2cdcf8cc5253",
   "metadata": {},
   "outputs": [
    {
     "data": {
      "text/html": [
       "<div>\n",
       "<style scoped>\n",
       "    .dataframe tbody tr th:only-of-type {\n",
       "        vertical-align: middle;\n",
       "    }\n",
       "\n",
       "    .dataframe tbody tr th {\n",
       "        vertical-align: top;\n",
       "    }\n",
       "\n",
       "    .dataframe thead th {\n",
       "        text-align: right;\n",
       "    }\n",
       "</style>\n",
       "<table border=\"1\" class=\"dataframe\">\n",
       "  <thead>\n",
       "    <tr style=\"text-align: right;\">\n",
       "      <th></th>\n",
       "      <th>Gender</th>\n",
       "      <th>Age</th>\n",
       "      <th>Job Title</th>\n",
       "      <th>Salary</th>\n",
       "    </tr>\n",
       "  </thead>\n",
       "  <tbody>\n",
       "    <tr>\n",
       "      <th>0</th>\n",
       "      <td>Male</td>\n",
       "      <td>34</td>\n",
       "      <td>Sales Manager</td>\n",
       "      <td>250000</td>\n",
       "    </tr>\n",
       "    <tr>\n",
       "      <th>1</th>\n",
       "      <td>Female</td>\n",
       "      <td>24</td>\n",
       "      <td>Software Developer</td>\n",
       "      <td>245478</td>\n",
       "    </tr>\n",
       "    <tr>\n",
       "      <th>2</th>\n",
       "      <td>Female</td>\n",
       "      <td>32</td>\n",
       "      <td>CEO (Chief Executive Officer)</td>\n",
       "      <td>245105</td>\n",
       "    </tr>\n",
       "    <tr>\n",
       "      <th>3</th>\n",
       "      <td>Female</td>\n",
       "      <td>39</td>\n",
       "      <td>Content Writer</td>\n",
       "      <td>243006</td>\n",
       "    </tr>\n",
       "    <tr>\n",
       "      <th>4</th>\n",
       "      <td>Male</td>\n",
       "      <td>25</td>\n",
       "      <td>Sales Manager</td>\n",
       "      <td>242820</td>\n",
       "    </tr>\n",
       "  </tbody>\n",
       "</table>\n",
       "</div>"
      ],
      "text/plain": [
       "   Gender  Age                      Job Title  Salary\n",
       "0    Male   34                  Sales Manager  250000\n",
       "1  Female   24             Software Developer  245478\n",
       "2  Female   32  CEO (Chief Executive Officer)  245105\n",
       "3  Female   39                 Content Writer  243006\n",
       "4    Male   25                  Sales Manager  242820"
      ]
     },
     "execution_count": 433,
     "metadata": {},
     "output_type": "execute_result"
    }
   ],
   "source": [
    "df.nlargest(5,\"Salary\").reset_index(drop=True) #en yüksek maaşlı 5 kişi, yukarıdaki kod ile aynı sonuç."
   ]
  },
  {
   "cell_type": "code",
   "execution_count": 431,
   "id": "139c4efb-4245-48b5-905f-83a9d2999a99",
   "metadata": {},
   "outputs": [
    {
     "data": {
      "text/html": [
       "<div>\n",
       "<style scoped>\n",
       "    .dataframe tbody tr th:only-of-type {\n",
       "        vertical-align: middle;\n",
       "    }\n",
       "\n",
       "    .dataframe tbody tr th {\n",
       "        vertical-align: top;\n",
       "    }\n",
       "\n",
       "    .dataframe thead th {\n",
       "        text-align: right;\n",
       "    }\n",
       "</style>\n",
       "<table border=\"1\" class=\"dataframe\">\n",
       "  <thead>\n",
       "    <tr style=\"text-align: right;\">\n",
       "      <th></th>\n",
       "      <th>Gender</th>\n",
       "      <th>Age</th>\n",
       "      <th>Job Title</th>\n",
       "      <th>Salary</th>\n",
       "    </tr>\n",
       "  </thead>\n",
       "  <tbody>\n",
       "    <tr>\n",
       "      <th>0</th>\n",
       "      <td>Female</td>\n",
       "      <td>62</td>\n",
       "      <td>Graphic Designer</td>\n",
       "      <td>53497</td>\n",
       "    </tr>\n",
       "    <tr>\n",
       "      <th>1</th>\n",
       "      <td>Female</td>\n",
       "      <td>21</td>\n",
       "      <td>UI/UX Designer</td>\n",
       "      <td>53844</td>\n",
       "    </tr>\n",
       "    <tr>\n",
       "      <th>2</th>\n",
       "      <td>Female</td>\n",
       "      <td>28</td>\n",
       "      <td>Sales Manager</td>\n",
       "      <td>54388</td>\n",
       "    </tr>\n",
       "    <tr>\n",
       "      <th>3</th>\n",
       "      <td>Female</td>\n",
       "      <td>52</td>\n",
       "      <td>Customer Support Specialist</td>\n",
       "      <td>55216</td>\n",
       "    </tr>\n",
       "    <tr>\n",
       "      <th>4</th>\n",
       "      <td>Female</td>\n",
       "      <td>54</td>\n",
       "      <td>Accountant</td>\n",
       "      <td>55347</td>\n",
       "    </tr>\n",
       "  </tbody>\n",
       "</table>\n",
       "</div>"
      ],
      "text/plain": [
       "   Gender  Age                    Job Title  Salary\n",
       "0  Female   62             Graphic Designer   53497\n",
       "1  Female   21               UI/UX Designer   53844\n",
       "2  Female   28                Sales Manager   54388\n",
       "3  Female   52  Customer Support Specialist   55216\n",
       "4  Female   54                   Accountant   55347"
      ]
     },
     "execution_count": 431,
     "metadata": {},
     "output_type": "execute_result"
    }
   ],
   "source": [
    "df.nsmallest(5,\"Salary\").reset_index(drop=True) #en düşük maaşlı 5 kişi "
   ]
  },
  {
   "cell_type": "markdown",
   "id": "125527bd-845b-44ba-92e3-9d3afcdc2f17",
   "metadata": {},
   "source": [
    "## Çalışan Yaş Dağılımı"
   ]
  },
  {
   "cell_type": "code",
   "execution_count": 452,
   "id": "17e863ab-fa4e-49ce-a0c7-30732f513e8d",
   "metadata": {},
   "outputs": [
    {
     "data": {
      "text/plain": [
       "<Axes: ylabel='Frequency'>"
      ]
     },
     "execution_count": 452,
     "metadata": {},
     "output_type": "execute_result"
    },
    {
     "data": {
      "image/png": "[encoded data removed]",
      "text/plain": [
       "<Figure size 640x480 with 1 Axes>"
      ]
     },
     "metadata": {},
     "output_type": "display_data"
    }
   ],
   "source": [
    "df['Age'].plot(kind='hist', bins=20, edgecolor='black')"
   ]
  },
  {
   "cell_type": "markdown",
   "id": "a232e3b0-35da-4580-b724-7e9476b18997",
   "metadata": {},
   "source": [
    "## Cinsiyet Bazında Ortalama Maaşlar"
   ]
  },
  {
   "cell_type": "code",
   "execution_count": 455,
   "id": "6ed5805d-8d82-456a-b2b7-9819cf9e471c",
   "metadata": {},
   "outputs": [],
   "source": [
    "gender_mean_salary= df.groupby(\"Gender\")[\"Salary\"].mean()"
   ]
  },
  {
   "cell_type": "code",
   "execution_count": 457,
   "id": "04f633cb-5e87-4fa6-aaf2-684db4430105",
   "metadata": {},
   "outputs": [
    {
     "data": {
      "text/plain": [
       "Gender\n",
       "Female    146065.981818\n",
       "Male      151958.844444\n",
       "Name: Salary, dtype: float64"
      ]
     },
     "execution_count": 457,
     "metadata": {},
     "output_type": "execute_result"
    }
   ],
   "source": [
    "gender_mean_salary"
   ]
  },
  {
   "cell_type": "code",
   "execution_count": 467,
   "id": "1475c538-cd0b-405c-ad30-f6157ea62923",
   "metadata": {},
   "outputs": [
    {
     "data": {
      "text/plain": [
       "<Axes: xlabel='Gender'>"
      ]
     },
     "execution_count": 467,
     "metadata": {},
     "output_type": "execute_result"
    },
    {
     "data": {
      "image/png": "[encoded data removed]",
      "text/plain": [
       "<Figure size 640x480 with 1 Axes>"
      ]
     },
     "metadata": {},
     "output_type": "display_data"
    }
   ],
   "source": [
    "gender_mean_salary.plot(x=\"Gender\",y=\"Salary\",kind=\"bar\",color=[\"pink\",\"blue\"])"
   ]
  },
  {
   "cell_type": "markdown",
   "id": "bb85d91c-97b0-4975-96a5-99880170e23a",
   "metadata": {},
   "source": [
    "## Yaşa Göre Maaş Dağılımı"
   ]
  },
  {
   "cell_type": "code",
   "execution_count": 515,
   "id": "c4a2fe36-a559-45c9-94f0-143ebf2f882b",
   "metadata": {},
   "outputs": [],
   "source": [
    "age_salary= df.groupby(\"Age\")[\"Salary\"].mean()"
   ]
  },
  {
   "cell_type": "code",
   "execution_count": 529,
   "id": "158862d4-3cab-4dc1-bd99-0cd6641d4c0c",
   "metadata": {},
   "outputs": [],
   "source": [
    "age_salary=pd.DataFrame(age_salary).reset_index()"
   ]
  },
  {
   "cell_type": "code",
   "execution_count": 535,
   "id": "2e1e914c-c252-4708-98a4-b15debe96774",
   "metadata": {},
   "outputs": [
    {
     "data": {
      "text/html": [
       "<div>\n",
       "<style scoped>\n",
       "    .dataframe tbody tr th:only-of-type {\n",
       "        vertical-align: middle;\n",
       "    }\n",
       "\n",
       "    .dataframe tbody tr th {\n",
       "        vertical-align: top;\n",
       "    }\n",
       "\n",
       "    .dataframe thead th {\n",
       "        text-align: right;\n",
       "    }\n",
       "</style>\n",
       "<table border=\"1\" class=\"dataframe\">\n",
       "  <thead>\n",
       "    <tr style=\"text-align: right;\">\n",
       "      <th></th>\n",
       "      <th>Age</th>\n",
       "      <th>Salary</th>\n",
       "    </tr>\n",
       "  </thead>\n",
       "  <tbody>\n",
       "    <tr>\n",
       "      <th>0</th>\n",
       "      <td>20</td>\n",
       "      <td>126663.00</td>\n",
       "    </tr>\n",
       "    <tr>\n",
       "      <th>1</th>\n",
       "      <td>21</td>\n",
       "      <td>126513.75</td>\n",
       "    </tr>\n",
       "    <tr>\n",
       "      <th>2</th>\n",
       "      <td>22</td>\n",
       "      <td>181004.00</td>\n",
       "    </tr>\n",
       "    <tr>\n",
       "      <th>3</th>\n",
       "      <td>23</td>\n",
       "      <td>218965.00</td>\n",
       "    </tr>\n",
       "    <tr>\n",
       "      <th>4</th>\n",
       "      <td>24</td>\n",
       "      <td>245478.00</td>\n",
       "    </tr>\n",
       "  </tbody>\n",
       "</table>\n",
       "</div>"
      ],
      "text/plain": [
       "   Age     Salary\n",
       "0   20  126663.00\n",
       "1   21  126513.75\n",
       "2   22  181004.00\n",
       "3   23  218965.00\n",
       "4   24  245478.00"
      ]
     },
     "execution_count": 535,
     "metadata": {},
     "output_type": "execute_result"
    }
   ],
   "source": [
    "age_salary.head()"
   ]
  },
  {
   "cell_type": "code",
   "execution_count": 531,
   "id": "23e27040-5165-46d8-b8d9-f6a538c8499f",
   "metadata": {},
   "outputs": [
    {
     "data": {
      "text/plain": [
       "<Axes: xlabel='Age', ylabel='Salary'>"
      ]
     },
     "execution_count": 531,
     "metadata": {},
     "output_type": "execute_result"
    },
    {
     "data": {
      "image/png": "[encoded data removed]",
      "text/plain": [
       "<Figure size 640x480 with 1 Axes>"
      ]
     },
     "metadata": {},
     "output_type": "display_data"
    }
   ],
   "source": [
    "age_salary.plot(x=\"Age\", y=\"Salary\", kind=\"scatter\")"
   ]
  },
  {
   "cell_type": "markdown",
   "id": "94803dfa-4f3d-4155-bb1b-45d5fdbf0ad2",
   "metadata": {},
   "source": [
    "## Pozisyon Dağılımı"
   ]
  },
  {
   "cell_type": "code",
   "execution_count": 598,
   "id": "bbaa1663-b5eb-4daf-ab13-58f296daa4a2",
   "metadata": {},
   "outputs": [],
   "source": [
    "job_count = df['Job Title'].value_counts()"
   ]
  },
  {
   "cell_type": "code",
   "execution_count": 600,
   "id": "72c9c06a-9e9c-48c4-ad44-447d7f01ea61",
   "metadata": {},
   "outputs": [
    {
     "data": {
      "text/plain": [
       "Job Title\n",
       "COO (Chief Operating Officer)           7\n",
       "Software Developer                      7\n",
       "Sales Manager                           6\n",
       "Content Writer                          6\n",
       "Supply Chain Manager                    5\n",
       "Data Analyst                            5\n",
       "CHRO (Chief Human Resources Officer)    5\n",
       "Human Resources Specialist              5\n",
       "Business Development Manager            4\n",
       "Legal Counsel                           4\n",
       "System Administrator                    4\n",
       "UI/UX Designer                          4\n",
       "Marketing Specialist                    4\n",
       "CMO (Chief Marketing Officer)           3\n",
       "Logistics Manager                       3\n",
       "Graphic Designer                        3\n",
       "Product Manager                         3\n",
       "CEO (Chief Executive Officer)           3\n",
       "CIO (Chief Information Officer)         3\n",
       "Network Engineer                        3\n",
       "Customer Support Specialist             3\n",
       "Financial Analyst                       2\n",
       "Data Scientist                          2\n",
       "Accountant                              2\n",
       "Quality Assurance (QA) Engineer         2\n",
       "Project Manager                         1\n",
       "CTO (Chief Technology Officer)          1\n",
       "Name: count, dtype: int64"
      ]
     },
     "execution_count": 600,
     "metadata": {},
     "output_type": "execute_result"
    }
   ],
   "source": [
    "job_count"
   ]
  },
  {
   "cell_type": "code",
   "execution_count": 604,
   "id": "8c227002-f532-4551-b28c-8c7b6e5482cc",
   "metadata": {},
   "outputs": [
    {
     "data": {
      "text/plain": [
       "<Axes: ylabel='count'>"
      ]
     },
     "execution_count": 604,
     "metadata": {},
     "output_type": "execute_result"
    },
    {
     "data": {
      "image/png": "[encoded data removed]",
      "text/plain": [
       "<Figure size 640x480 with 1 Axes>"
      ]
     },
     "metadata": {},
     "output_type": "display_data"
    }
   ],
   "source": [
    "job_count.plot(kind=\"pie\",fontsize=6,autopct='%1.1f%%')"
   ]
  }
 ],
 "metadata": {
  "kernelspec": {
   "display_name": "Python 3 (ipykernel)",
   "language": "python",
   "name": "python3"
  },
  "language_info": {
   "codemirror_mode": {
    "name": "ipython",
    "version": 3
   },
   "file_extension": ".py",
   "mimetype": "text/x-python",
   "name": "python",
   "nbconvert_exporter": "python",
   "pygments_lexer": "ipython3",
   "version": "3.12.4"
  }
 },
 "nbformat": 4,
 "nbformat_minor": 5
}
